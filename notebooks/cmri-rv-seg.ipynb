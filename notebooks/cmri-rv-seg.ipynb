{
 "cells": [
  {
   "cell_type": "markdown",
   "metadata": {},
   "source": [
    "# U-Net Model for RV Segmentation\n",
    "\n",
    "## Training U-Net CNN"
   ]
  },
  {
   "cell_type": "code",
   "execution_count": 1,
   "metadata": {},
   "outputs": [
    {
     "name": "stderr",
     "output_type": "stream",
     "text": [
      "Using TensorFlow backend.\n"
     ]
    }
   ],
   "source": [
    "import sys\n",
    "sys.path.append(\"..\")\n",
    "import os, re, glob\n",
    "import numpy as np\n",
    "import matplotlib as mplt\n",
    "%matplotlib inline\n",
    "\n",
    "from src import data,unet"
   ]
  },
  {
   "cell_type": "code",
   "execution_count": 2,
   "metadata": {},
   "outputs": [
    {
     "name": "stdout",
     "output_type": "stream",
     "text": [
      "There are 243 total training images.\n",
      "There are 243 total inner masks.\n",
      "There are 243 total outer masks.\n"
     ]
    }
   ],
   "source": [
    "from keras import utils\n",
    "\n",
    "train_dir = \"/home/ubuntu/training/TrainingSet\"\n",
    "\n",
    "\n",
    "images=[]\n",
    "inner_masks=[]\n",
    "outer_masks = []\n",
    "\n",
    "patient_directories = sorted(glob.glob(os.path.join(train_dir, \"patient*\")))\n",
    "\n",
    "for patient_dir in patient_directories:\n",
    "    imgdata = data.ImageData(patient_dir)\n",
    "    images += imgdata.labeled_images\n",
    "    inner_masks += imgdata.endo_masks.values()\n",
    "    outer_masks += imgdata.epi_masks.values()\n",
    "\n",
    "images = np.asarray(images)[:,:,:,None].astype('float64')\n",
    "i_masks = np.asarray(inner_masks)\n",
    "o_masks = np.asarray(outer_masks)\n",
    "\n",
    "dims = i_masks.shape\n",
    "classes = len(set(i_masks[0].flatten()))\n",
    "new_shape = dims + (classes,)\n",
    "i_masks = utils.to_categorical(i_masks).reshape(new_shape)\n",
    "o_masks = utils.to_categorical(o_masks).reshape(new_shape)\n",
    "\n",
    "print(\"There are %d total training images.\" % len(images))\n",
    "print(\"There are %d total inner masks.\" % len(inner_masks))\n",
    "print(\"There are %d total outer masks.\" % len(outer_masks))\n"
   ]
  },
  {
   "cell_type": "code",
   "execution_count": 3,
   "metadata": {
    "scrolled": false
   },
   "outputs": [
    {
     "name": "stdout",
     "output_type": "stream",
     "text": [
      "____________________________________________________________________________________________________\n",
      "Layer (type)                     Output Shape          Param #     Connected to                     \n",
      "====================================================================================================\n",
      "input_1 (InputLayer)             (None, 216, 256, 1)   0                                            \n",
      "____________________________________________________________________________________________________\n",
      "conv2d_1 (Conv2D)                (None, 216, 256, 32)  320         input_1[0][0]                    \n",
      "____________________________________________________________________________________________________\n",
      "conv2d_2 (Conv2D)                (None, 216, 256, 32)  9248        conv2d_1[0][0]                   \n",
      "____________________________________________________________________________________________________\n",
      "max_pooling2d_1 (MaxPooling2D)   (None, 108, 128, 32)  0           conv2d_2[0][0]                   \n",
      "____________________________________________________________________________________________________\n",
      "conv2d_3 (Conv2D)                (None, 108, 128, 64)  18496       max_pooling2d_1[0][0]            \n",
      "____________________________________________________________________________________________________\n",
      "conv2d_4 (Conv2D)                (None, 108, 128, 64)  36928       conv2d_3[0][0]                   \n",
      "____________________________________________________________________________________________________\n",
      "max_pooling2d_2 (MaxPooling2D)   (None, 54, 64, 64)    0           conv2d_4[0][0]                   \n",
      "____________________________________________________________________________________________________\n",
      "conv2d_5 (Conv2D)                (None, 54, 64, 128)   73856       max_pooling2d_2[0][0]            \n",
      "____________________________________________________________________________________________________\n",
      "conv2d_6 (Conv2D)                (None, 54, 64, 128)   147584      conv2d_5[0][0]                   \n",
      "____________________________________________________________________________________________________\n",
      "max_pooling2d_3 (MaxPooling2D)   (None, 27, 32, 128)   0           conv2d_6[0][0]                   \n",
      "____________________________________________________________________________________________________\n",
      "conv2d_7 (Conv2D)                (None, 27, 32, 256)   295168      max_pooling2d_3[0][0]            \n",
      "____________________________________________________________________________________________________\n",
      "conv2d_8 (Conv2D)                (None, 27, 32, 256)   590080      conv2d_7[0][0]                   \n",
      "____________________________________________________________________________________________________\n",
      "conv2d_transpose_1 (Conv2DTransp (None, 54, 64, 128)   131200      conv2d_8[0][0]                   \n",
      "____________________________________________________________________________________________________\n",
      "concatenate_1 (Concatenate)      (None, 54, 64, 256)   0           conv2d_transpose_1[0][0]         \n",
      "                                                                   conv2d_transpose_1[0][0]         \n",
      "____________________________________________________________________________________________________\n",
      "conv2d_9 (Conv2D)                (None, 54, 64, 128)   295040      concatenate_1[0][0]              \n",
      "____________________________________________________________________________________________________\n",
      "conv2d_10 (Conv2D)               (None, 54, 64, 128)   147584      conv2d_9[0][0]                   \n",
      "____________________________________________________________________________________________________\n",
      "conv2d_transpose_2 (Conv2DTransp (None, 108, 128, 64)  32832       conv2d_10[0][0]                  \n",
      "____________________________________________________________________________________________________\n",
      "concatenate_2 (Concatenate)      (None, 108, 128, 128) 0           conv2d_transpose_2[0][0]         \n",
      "                                                                   conv2d_transpose_2[0][0]         \n",
      "____________________________________________________________________________________________________\n",
      "conv2d_11 (Conv2D)               (None, 108, 128, 64)  73792       concatenate_2[0][0]              \n",
      "____________________________________________________________________________________________________\n",
      "conv2d_12 (Conv2D)               (None, 108, 128, 64)  36928       conv2d_11[0][0]                  \n",
      "____________________________________________________________________________________________________\n",
      "conv2d_transpose_3 (Conv2DTransp (None, 216, 256, 32)  8224        conv2d_12[0][0]                  \n",
      "____________________________________________________________________________________________________\n",
      "concatenate_3 (Concatenate)      (None, 216, 256, 64)  0           conv2d_transpose_3[0][0]         \n",
      "                                                                   conv2d_transpose_3[0][0]         \n",
      "____________________________________________________________________________________________________\n",
      "conv2d_13 (Conv2D)               (None, 216, 256, 32)  18464       concatenate_3[0][0]              \n",
      "____________________________________________________________________________________________________\n",
      "conv2d_14 (Conv2D)               (None, 216, 256, 32)  9248        conv2d_13[0][0]                  \n",
      "____________________________________________________________________________________________________\n",
      "conv2d_15 (Conv2D)               (None, 216, 256, 2)   66          conv2d_14[0][0]                  \n",
      "====================================================================================================\n",
      "Total params: 1,925,058\n",
      "Trainable params: 1,925,058\n",
      "Non-trainable params: 0\n",
      "____________________________________________________________________________________________________\n"
     ]
    }
   ],
   "source": [
    "unet_conv = unet.UNet()\n",
    "\n",
    "model = unet_conv.get_unet(height=216,width=256,channels=1,features=32,steps=3,padding='same')\n",
    "\n",
    "model.summary()"
   ]
  },
  {
   "cell_type": "code",
   "execution_count": 4,
   "metadata": {},
   "outputs": [],
   "source": [
    "from keras.optimizers import Adam\n",
    "from keras import backend as K\n",
    "\n",
    "def dice_coef(y_true, y_pred):\n",
    "        flat_y_true = K.flatten(y_true)\n",
    "        flat_y_preds = K.flatten(y_pred)\n",
    "        intersection = K.sum(flat_y_true*flat_y_preds)\n",
    "        return (2. * intersection + 1.) / (K.sum(flat_y_true)+K.sum(flat_y_preds))\n",
    "\n",
    "\n",
    "model.compile(optimizer=Adam(lr=1e-5),loss='categorical_crossentropy',metrics=[dice_coef])"
   ]
  },
  {
   "cell_type": "code",
   "execution_count": 7,
   "metadata": {},
   "outputs": [
    {
     "name": "stderr",
     "output_type": "stream",
     "text": [
      "/usr/local/lib/python3.5/dist-packages/Keras-2.0.8-py3.5.egg/keras/preprocessing/image.py:653: UserWarning: Expected input to be images (as Numpy array) following the data format convention \"channels_last\" (channels on axis 3), i.e. expected either 1, 3 or 4 channels on axis 3. However, it was passed an array with shape (194, 216, 256, 2) (2 channels).\n",
      "/usr/local/lib/python3.5/dist-packages/Keras-2.0.8-py3.5.egg/keras/preprocessing/image.py:787: UserWarning: NumpyArrayIterator is set to use the data format convention \"channels_last\" (channels on axis 3), i.e. expected either 1, 3 or 4 channels on axis 3. However, it was passed an array with shape (194, 216, 256, 2) (2 channels).\n"
     ]
    }
   ],
   "source": [
    "#TODO: 1. split data into training and validation set\n",
    "#      2. Augment the data\n",
    "#      3. Train model\n",
    "from keras.preprocessing.image import ImageDataGenerator\n",
    "from keras.callbacks import ModelCheckpoint\n",
    "\n",
    "from math import ceil\n",
    "\n",
    "seed = 0\n",
    "\n",
    "validation_split=0.2\n",
    "\n",
    "epochs = 20 \n",
    "batch_size = 20\n",
    "\n",
    "\n",
    "split_index = int((1 - validation_split) * len(images))\n",
    "\n",
    "train_steps = ceil(split_index / batch_size)\n",
    "val_steps = ceil((len(images)-split_index )/batch_size)\n",
    "\n",
    "train_images = images[:split_index]\n",
    "train_inner_masks = i_masks[:split_index]\n",
    "\n",
    "validation_images = images[split_index:]\n",
    "validation_inner_masks = i_masks[split_index:]\n",
    "\n",
    "\n",
    "data_gen_args = dict(rotation_range=180,\n",
    "                     width_shift_range=0.1,\n",
    "                     height_shift_range=0.1,\n",
    "                     shear_range=0.1,\n",
    "                     zoom_range=0.01,\n",
    "                     fill_mode='nearest')\n",
    "\n",
    "train_images_datagen = ImageDataGenerator(**data_gen_args)\n",
    "train_masks_datagen = ImageDataGenerator(**data_gen_args)\n",
    "\n",
    "\n",
    "seed = 1\n",
    "#height,width,channels = train_images[0].shape\n",
    "#print(train_images[0].shape)\n",
    "#print(train_inner_masks[0].shape)\n",
    "train_images_datagen.fit(train_images,augment=True,seed=seed)\n",
    "train_masks_datagen.fit(train_inner_masks,augment=True,seed=seed)\n",
    "\n",
    "train_images_generator = train_images_datagen.flow(train_images, y=None, seed=seed)\n",
    "train_masks_generator = train_images_datagen.flow(train_inner_masks, y=None, seed=seed)\n",
    "\n",
    "\n",
    "train_generator = zip(train_images_generator, train_masks_generator)\n"
   ]
  },
  {
   "cell_type": "code",
   "execution_count": 8,
   "metadata": {},
   "outputs": [
    {
     "name": "stdout",
     "output_type": "stream",
     "text": [
      "Epoch 1/20\n",
      " 9/10 [==========================>...] - ETA: 1s - loss: 0.7304 - dice_coef: 0.4821Epoch 00000: val_loss improved from inf to 0.71357, saving model to saved_models/weights.hdf5\n",
      "10/10 [==============================] - 18s - loss: 0.7289 - dice_coef: 0.4828 - val_loss: 0.7136 - val_dice_coef: 0.4900\n",
      "Epoch 2/20\n",
      " 9/10 [==========================>...] - ETA: 1s - loss: 0.7121 - dice_coef: 0.4907Epoch 00001: val_loss improved from 0.71357 to 0.70447, saving model to saved_models/weights.hdf5\n",
      "10/10 [==============================] - 16s - loss: 0.7115 - dice_coef: 0.4910 - val_loss: 0.7045 - val_dice_coef: 0.4944\n",
      "Epoch 3/20\n",
      " 9/10 [==========================>...] - ETA: 1s - loss: 0.7044 - dice_coef: 0.4945Epoch 00002: val_loss improved from 0.70447 to 0.69973, saving model to saved_models/weights.hdf5\n",
      "10/10 [==============================] - 15s - loss: 0.7041 - dice_coef: 0.4946 - val_loss: 0.6997 - val_dice_coef: 0.4967\n",
      "Epoch 4/20\n",
      " 9/10 [==========================>...] - ETA: 1s - loss: 0.6994 - dice_coef: 0.4969Epoch 00003: val_loss improved from 0.69973 to 0.69693, saving model to saved_models/weights.hdf5\n",
      "10/10 [==============================] - 17s - loss: 0.6993 - dice_coef: 0.4970 - val_loss: 0.6969 - val_dice_coef: 0.4981\n",
      "Epoch 5/20\n",
      " 9/10 [==========================>...] - ETA: 1s - loss: 0.6971 - dice_coef: 0.4980Epoch 00004: val_loss improved from 0.69693 to 0.69497, saving model to saved_models/weights.hdf5\n",
      "10/10 [==============================] - 15s - loss: 0.6970 - dice_coef: 0.4981 - val_loss: 0.6950 - val_dice_coef: 0.4991\n",
      "Epoch 6/20\n",
      " 9/10 [==========================>...] - ETA: 1s - loss: 0.6952 - dice_coef: 0.4990Epoch 00005: val_loss improved from 0.69497 to 0.69345, saving model to saved_models/weights.hdf5\n",
      "10/10 [==============================] - 17s - loss: 0.6951 - dice_coef: 0.4990 - val_loss: 0.6935 - val_dice_coef: 0.4999\n",
      "Epoch 7/20\n",
      " 9/10 [==========================>...] - ETA: 1s - loss: 0.6935 - dice_coef: 0.4998Epoch 00006: val_loss improved from 0.69345 to 0.69216, saving model to saved_models/weights.hdf5\n",
      "10/10 [==============================] - 15s - loss: 0.6935 - dice_coef: 0.4998 - val_loss: 0.6922 - val_dice_coef: 0.5005\n",
      "Epoch 8/20\n",
      " 9/10 [==========================>...] - ETA: 1s - loss: 0.6923 - dice_coef: 0.5004Epoch 00007: val_loss improved from 0.69216 to 0.69098, saving model to saved_models/weights.hdf5\n",
      "10/10 [==============================] - 17s - loss: 0.6922 - dice_coef: 0.5005 - val_loss: 0.6910 - val_dice_coef: 0.5011\n",
      "Epoch 9/20\n",
      " 9/10 [==========================>...] - ETA: 1s - loss: 0.6909 - dice_coef: 0.5011Epoch 00008: val_loss improved from 0.69098 to 0.68984, saving model to saved_models/weights.hdf5\n",
      "10/10 [==============================] - 16s - loss: 0.6909 - dice_coef: 0.5011 - val_loss: 0.6898 - val_dice_coef: 0.5017\n",
      "Epoch 10/20\n",
      " 9/10 [==========================>...] - ETA: 1s - loss: 0.6898 - dice_coef: 0.5017Epoch 00009: val_loss improved from 0.68984 to 0.68870, saving model to saved_models/weights.hdf5\n",
      "10/10 [==============================] - 14s - loss: 0.6898 - dice_coef: 0.5017 - val_loss: 0.6887 - val_dice_coef: 0.5022\n",
      "Epoch 11/20\n",
      " 9/10 [==========================>...] - ETA: 1s - loss: 0.6885 - dice_coef: 0.5023Epoch 00010: val_loss improved from 0.68870 to 0.68750, saving model to saved_models/weights.hdf5\n",
      "10/10 [==============================] - 16s - loss: 0.6885 - dice_coef: 0.5023 - val_loss: 0.6875 - val_dice_coef: 0.5028\n",
      "Epoch 12/20\n",
      " 9/10 [==========================>...] - ETA: 1s - loss: 0.6873 - dice_coef: 0.5030Epoch 00011: val_loss improved from 0.68750 to 0.68615, saving model to saved_models/weights.hdf5\n",
      "10/10 [==============================] - 14s - loss: 0.6872 - dice_coef: 0.5030 - val_loss: 0.6861 - val_dice_coef: 0.5035\n",
      "Epoch 13/20\n",
      " 9/10 [==========================>...] - ETA: 1s - loss: 0.6857 - dice_coef: 0.5038Epoch 00012: val_loss improved from 0.68615 to 0.68445, saving model to saved_models/weights.hdf5\n",
      "10/10 [==============================] - 16s - loss: 0.6856 - dice_coef: 0.5038 - val_loss: 0.6845 - val_dice_coef: 0.5044\n",
      "Epoch 14/20\n",
      " 9/10 [==========================>...] - ETA: 1s - loss: 0.6837 - dice_coef: 0.5048Epoch 00013: val_loss improved from 0.68445 to 0.68201, saving model to saved_models/weights.hdf5\n",
      "10/10 [==============================] - 15s - loss: 0.6836 - dice_coef: 0.5048 - val_loss: 0.6820 - val_dice_coef: 0.5056\n",
      "Epoch 15/20\n",
      " 9/10 [==========================>...] - ETA: 1s - loss: 0.6806 - dice_coef: 0.5064Epoch 00014: val_loss improved from 0.68201 to 0.67759, saving model to saved_models/weights.hdf5\n",
      "10/10 [==============================] - 16s - loss: 0.6803 - dice_coef: 0.5065 - val_loss: 0.6776 - val_dice_coef: 0.5079\n",
      "Epoch 16/20\n",
      " 9/10 [==========================>...] - ETA: 1s - loss: 0.6734 - dice_coef: 0.5101Epoch 00015: val_loss improved from 0.67759 to 0.66605, saving model to saved_models/weights.hdf5\n",
      "10/10 [==============================] - 16s - loss: 0.6726 - dice_coef: 0.5105 - val_loss: 0.6660 - val_dice_coef: 0.5139\n",
      "Epoch 17/20\n",
      " 9/10 [==========================>...] - ETA: 1s - loss: 0.6507 - dice_coef: 0.5224Epoch 00016: val_loss improved from 0.66605 to 0.62187, saving model to saved_models/weights.hdf5\n",
      "10/10 [==============================] - 15s - loss: 0.6481 - dice_coef: 0.5239 - val_loss: 0.6219 - val_dice_coef: 0.5388\n",
      "Epoch 18/20\n",
      " 9/10 [==========================>...] - ETA: 1s - loss: 0.5661 - dice_coef: 0.5755Epoch 00017: val_loss improved from 0.62187 to 0.47537, saving model to saved_models/weights.hdf5\n",
      "10/10 [==============================] - 16s - loss: 0.5587 - dice_coef: 0.5816 - val_loss: 0.4754 - val_dice_coef: 0.6424\n",
      "Epoch 19/20\n",
      " 9/10 [==========================>...] - ETA: 1s - loss: 0.4264 - dice_coef: 0.7179Epoch 00018: val_loss improved from 0.47537 to 0.34888, saving model to saved_models/weights.hdf5\n",
      "10/10 [==============================] - 15s - loss: 0.4175 - dice_coef: 0.7291 - val_loss: 0.3489 - val_dice_coef: 0.8088\n",
      "Epoch 20/20\n",
      " 9/10 [==========================>...] - ETA: 1s - loss: 0.3580 - dice_coef: 0.8267Epoch 00019: val_loss improved from 0.34888 to 0.32931, saving model to saved_models/weights.hdf5\n",
      "10/10 [==============================] - 16s - loss: 0.3588 - dice_coef: 0.8257 - val_loss: 0.3293 - val_dice_coef: 0.8064\n"
     ]
    },
    {
     "data": {
      "text/plain": [
       "<keras.callbacks.History at 0x7f032c92b390>"
      ]
     },
     "execution_count": 8,
     "metadata": {},
     "output_type": "execute_result"
    }
   ],
   "source": [
    "checkpointer = ModelCheckpoint(filepath='saved_models/weights.hdf5', verbose=1, save_best_only=True)\n",
    "\n",
    "model.fit_generator(train_generator,steps_per_epoch=train_steps,epochs=epochs,verbose=1,callbacks=[checkpointer],\n",
    "                   validation_data=(validation_images,validation_inner_masks),validation_steps=val_steps)"
   ]
  },
  {
   "cell_type": "code",
   "execution_count": null,
   "metadata": {
    "collapsed": true
   },
   "outputs": [],
   "source": []
  }
 ],
 "metadata": {
  "kernelspec": {
   "display_name": "Python 3",
   "language": "python",
   "name": "python3"
  },
  "language_info": {
   "codemirror_mode": {
    "name": "ipython",
    "version": 3
   },
   "file_extension": ".py",
   "mimetype": "text/x-python",
   "name": "python",
   "nbconvert_exporter": "python",
   "pygments_lexer": "ipython3",
   "version": "3.5.2"
  }
 },
 "nbformat": 4,
 "nbformat_minor": 2
}
