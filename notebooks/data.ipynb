{
 "cells": [
  {
   "cell_type": "markdown",
   "metadata": {},
   "source": [
    "# Data Exploration\n",
    "\n",
    "In this notebook, we will explore the data provided in the training set. We will view the images, contours and masks created from these contours. This exploration will better help us understand the data being used to train our CNN."
   ]
  },
  {
   "cell_type": "code",
   "execution_count": 1,
   "metadata": {
    "collapsed": false
   },
   "outputs": [],
   "source": [
    "import sys\n",
    "sys.path.append('..')\n",
    "import os, glob\n",
    "import numpy as np\n",
    "import matplotlib.pyplot as plt\n",
    "\n",
    "from src import data\n",
    "\n",
    "basedir=\"/Users/aksharkumar/Documents/mlndCapstone/trainingdata/TrainingSet\"\n"
   ]
  },
  {
   "cell_type": "code",
   "execution_count": 2,
   "metadata": {
    "collapsed": false
   },
   "outputs": [
    {
     "name": "stdout",
     "output_type": "stream",
     "text": [
      "P01-0100\n",
      "P01-0128\n",
      "P01-0160\n",
      "P01-0148\n",
      "P01-0228\n",
      "P01-0200\n",
      "P01-0188\n",
      "P01-0168\n",
      "P01-0140\n",
      "P01-0180\n",
      "P01-0220\n",
      "P01-0208\n",
      "P01-0080\n",
      "P01-0240\n",
      "P01-0108\n",
      "P01-0120\n"
     ]
    }
   ],
   "source": [
    "p01dir = os.path.join(basedir, \"patient01\")\n",
    "\n",
    "# print(p01dir)\n",
    "\n",
    "imgdata = data.ImageData(p01dir)\n",
    "\n",
    "for index in range(len(imgdata.images)):\n",
    "    \n"
   ]
  },
  {
   "cell_type": "code",
   "execution_count": null,
   "metadata": {
    "collapsed": true
   },
   "outputs": [],
   "source": []
  }
 ],
 "metadata": {
  "kernelspec": {
   "display_name": "Python 2",
   "language": "python",
   "name": "python2"
  },
  "language_info": {
   "codemirror_mode": {
    "name": "ipython",
    "version": 2
   },
   "file_extension": ".py",
   "mimetype": "text/x-python",
   "name": "python",
   "nbconvert_exporter": "python",
   "pygments_lexer": "ipython2",
   "version": "2.7.10"
  }
 },
 "nbformat": 4,
 "nbformat_minor": 2
}
