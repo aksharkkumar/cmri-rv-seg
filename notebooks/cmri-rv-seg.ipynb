{
 "cells": [
  {
   "cell_type": "markdown",
   "metadata": {},
   "source": [
    "# U-Net Model for RV Segmentation\n",
    "\n",
    "## Training U-Net CNN"
   ]
  },
  {
   "cell_type": "code",
   "execution_count": 1,
   "metadata": {
    "collapsed": false
   },
   "outputs": [
    {
     "name": "stderr",
     "output_type": "stream",
     "text": [
      "Using TensorFlow backend.\n"
     ]
    }
   ],
   "source": [
    "import sys\n",
    "sys.path.append(\"..\")\n",
    "import os, re, glob\n",
    "import numpy as np\n",
    "import matplotlib as mplt\n",
    "%matplotlib inline\n",
    "\n",
    "from src import data,unet"
   ]
  },
  {
   "cell_type": "code",
   "execution_count": 2,
   "metadata": {
    "collapsed": false
   },
   "outputs": [
    {
     "name": "stdout",
     "output_type": "stream",
     "text": [
      "There are 243 total training images.\n",
      "There are 243 total inner masks.\n",
      "There are 243 total outer masks.\n"
     ]
    }
   ],
   "source": [
    "train_dir = \"/Users/aksharkumar/Documents/mlndCapstone/trainingdata/TrainingSet\"\n",
    "\n",
    "\n",
    "train_images=[]\n",
    "train_inner_masks=[]\n",
    "train_outer_masks = []\n",
    "\n",
    "patient_directories = sorted(glob.glob(os.path.join(train_dir, \"patient*\")))\n",
    "\n",
    "for patient_dir in patient_directories:\n",
    "    imgdata = data.ImageData(patient_dir)\n",
    "    train_images += imgdata.labeled_images\n",
    "    train_inner_masks += imgdata.endo_masks.values()\n",
    "    train_outer_masks += imgdata.epi_masks.values()\n",
    "\n",
    "print(\"There are %d total training images.\" % len(train_images))\n",
    "print(\"There are %d total inner masks.\" % len(train_inner_masks))\n",
    "print(\"There are %d total outer masks.\" % len(train_outer_masks))\n"
   ]
  },
  {
   "cell_type": "code",
   "execution_count": 8,
   "metadata": {
    "collapsed": false,
    "scrolled": false
   },
   "outputs": [
    {
     "name": "stdout",
     "output_type": "stream",
     "text": [
      "____________________________________________________________________________________________________\n",
      "Layer (type)                     Output Shape          Param #     Connected to                     \n",
      "====================================================================================================\n",
      "input_3 (InputLayer)             (None, 216, 256, 1)   0                                            \n",
      "____________________________________________________________________________________________________\n",
      "conv2d_35 (Conv2D)               (None, 214, 254, 32)  320         input_3[0][0]                    \n",
      "____________________________________________________________________________________________________\n",
      "conv2d_36 (Conv2D)               (None, 212, 252, 32)  9248        conv2d_35[0][0]                  \n",
      "____________________________________________________________________________________________________\n",
      "max_pooling2d_8 (MaxPooling2D)   (None, 106, 126, 32)  0           conv2d_36[0][0]                  \n",
      "____________________________________________________________________________________________________\n",
      "conv2d_37 (Conv2D)               (None, 104, 124, 64)  18496       max_pooling2d_8[0][0]            \n",
      "____________________________________________________________________________________________________\n",
      "conv2d_38 (Conv2D)               (None, 102, 122, 64)  36928       conv2d_37[0][0]                  \n",
      "____________________________________________________________________________________________________\n",
      "max_pooling2d_9 (MaxPooling2D)   (None, 51, 61, 64)    0           conv2d_38[0][0]                  \n",
      "____________________________________________________________________________________________________\n",
      "conv2d_39 (Conv2D)               (None, 49, 59, 128)   73856       max_pooling2d_9[0][0]            \n",
      "____________________________________________________________________________________________________\n",
      "conv2d_40 (Conv2D)               (None, 47, 57, 128)   147584      conv2d_39[0][0]                  \n",
      "____________________________________________________________________________________________________\n",
      "max_pooling2d_10 (MaxPooling2D)  (None, 23, 28, 128)   0           conv2d_40[0][0]                  \n",
      "____________________________________________________________________________________________________\n",
      "conv2d_41 (Conv2D)               (None, 21, 26, 256)   295168      max_pooling2d_10[0][0]           \n",
      "____________________________________________________________________________________________________\n",
      "conv2d_42 (Conv2D)               (None, 19, 24, 256)   590080      conv2d_41[0][0]                  \n",
      "____________________________________________________________________________________________________\n",
      "conv2d_transpose_8 (Conv2DTransp (None, 38, 48, 128)   131200      conv2d_42[0][0]                  \n",
      "____________________________________________________________________________________________________\n",
      "cropping2d_8 (Cropping2D)        (None, 38, 48, 128)   0           conv2d_40[0][0]                  \n",
      "____________________________________________________________________________________________________\n",
      "concatenate_8 (Concatenate)      (None, 38, 48, 256)   0           conv2d_transpose_8[0][0]         \n",
      "                                                                   cropping2d_8[0][0]               \n",
      "____________________________________________________________________________________________________\n",
      "conv2d_43 (Conv2D)               (None, 36, 46, 128)   295040      concatenate_8[0][0]              \n",
      "____________________________________________________________________________________________________\n",
      "conv2d_44 (Conv2D)               (None, 34, 44, 128)   147584      conv2d_43[0][0]                  \n",
      "____________________________________________________________________________________________________\n",
      "conv2d_transpose_9 (Conv2DTransp (None, 68, 88, 64)    32832       conv2d_44[0][0]                  \n",
      "____________________________________________________________________________________________________\n",
      "cropping2d_9 (Cropping2D)        (None, 68, 88, 64)    0           conv2d_38[0][0]                  \n",
      "____________________________________________________________________________________________________\n",
      "concatenate_9 (Concatenate)      (None, 68, 88, 128)   0           conv2d_transpose_9[0][0]         \n",
      "                                                                   cropping2d_9[0][0]               \n",
      "____________________________________________________________________________________________________\n",
      "conv2d_45 (Conv2D)               (None, 66, 86, 64)    73792       concatenate_9[0][0]              \n",
      "____________________________________________________________________________________________________\n",
      "conv2d_46 (Conv2D)               (None, 64, 84, 64)    36928       conv2d_45[0][0]                  \n",
      "____________________________________________________________________________________________________\n",
      "conv2d_transpose_10 (Conv2DTrans (None, 128, 168, 32)  8224        conv2d_46[0][0]                  \n",
      "____________________________________________________________________________________________________\n",
      "cropping2d_10 (Cropping2D)       (None, 128, 168, 32)  0           conv2d_36[0][0]                  \n",
      "____________________________________________________________________________________________________\n",
      "concatenate_10 (Concatenate)     (None, 128, 168, 64)  0           conv2d_transpose_10[0][0]        \n",
      "                                                                   cropping2d_10[0][0]              \n",
      "____________________________________________________________________________________________________\n",
      "conv2d_47 (Conv2D)               (None, 126, 166, 32)  18464       concatenate_10[0][0]             \n",
      "____________________________________________________________________________________________________\n",
      "conv2d_48 (Conv2D)               (None, 124, 164, 32)  9248        conv2d_47[0][0]                  \n",
      "____________________________________________________________________________________________________\n",
      "conv2d_49 (Conv2D)               (None, 124, 164, 2)   66          conv2d_48[0][0]                  \n",
      "====================================================================================================\n",
      "Total params: 1,925,058\n",
      "Trainable params: 1,925,058\n",
      "Non-trainable params: 0\n",
      "____________________________________________________________________________________________________\n"
     ]
    }
   ],
   "source": [
    "unet_conv = unet.UNet()\n",
    "\n",
    "model = unet_conv.get_unet(height=216,width=256,channels=1,features=32,steps=3,padding='valid')\n",
    "\n",
    "model.summary()"
   ]
  },
  {
   "cell_type": "code",
   "execution_count": 6,
   "metadata": {
    "collapsed": false
   },
   "outputs": [],
   "source": [
    "from keras.optimizers import Adam\n",
    "from keras import backend as K\n",
    "\n",
    "def dice_coef(y_true, y_pred):\n",
    "        flat_y_true = K.flatten(y_true)\n",
    "        flat_y_preds = K.flatten(y_pred)\n",
    "        intersection = K.sum(flat_y_true*flat_y_preds)\n",
    "        return (2. * intersection + 1.) / (K.sum(flat_y_true)+K.sum(flat_y_preds))\n",
    "\n",
    "\n",
    "model.compile(optimizer=Adam(lr=1e-5),loss='categorical_crossentropy',metrics=[dice_coef])"
   ]
  },
  {
   "cell_type": "code",
   "execution_count": null,
   "metadata": {
    "collapsed": true
   },
   "outputs": [],
   "source": [
    "#TODO: 1. split data into training and validation set\n",
    "#      2. Augment the data\n",
    "#      3. Train model\n",
    "from keras.preprocessing.images import ImageDataGenerator\n",
    "from keras.callbacks import ModelCheckpoint\n",
    "\n",
    "checkpointer = ModelCheckpoint(filepath='saved_models/weights.hdf5', verbose=1, save_best_only=True)\n",
    "\n",
    "epochs = 10 \n",
    "\n"
   ]
  }
 ],
 "metadata": {
  "kernelspec": {
   "display_name": "Python 2",
   "language": "python",
   "name": "python2"
  },
  "language_info": {
   "codemirror_mode": {
    "name": "ipython",
    "version": 2
   },
   "file_extension": ".py",
   "mimetype": "text/x-python",
   "name": "python",
   "nbconvert_exporter": "python",
   "pygments_lexer": "ipython2",
   "version": "2.7.10"
  }
 },
 "nbformat": 4,
 "nbformat_minor": 2
}
