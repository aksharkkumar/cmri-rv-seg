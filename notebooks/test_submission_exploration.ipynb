{
 "cells": [
  {
   "cell_type": "markdown",
   "metadata": {},
   "source": [
    "# Test Data Exploration and Submission Files Creation\n",
    "\n",
    "This notebook will be used to take a look at how the model predicts on a small subset of the testing data available. We will also create the submission files to be sent to the moderators for evaluation. "
   ]
  },
  {
   "cell_type": "markdown",
   "metadata": {},
   "source": [
    "## Test Data Prediction Visualization"
   ]
  },
  {
   "cell_type": "code",
   "execution_count": null,
   "metadata": {
    "collapsed": true
   },
   "outputs": [],
   "source": [
    "import os,glob,re,sys\n",
    "import matplotlib as plt\n",
    "\n",
    "from src import data,prediction,unet\n",
    "\n",
    "test_dir1 = \"/home/ubuntu/testing/Test1Set\"\n",
    "test_dir2 = \"/home/ubuntu/testing/Test2Set\"\n",
    "\n",
    "patient17_dir = os.path.join(test_dir1,\"patient17\")\n",
    "\n",
    "num_imgs = 10\n",
    "\n",
    "predictor_test_1 = prediction.Predictor(test_dir1)\n",
    "predictor_test_2 = prediction.Predictor(test_dir2)\n",
    "\n",
    "o_predictions,i_predictions = predictor_test_1.make_predictions_one(patient17_dir,num_imgs)\n",
    "    "
   ]
  },
  {
   "cell_type": "code",
   "execution_count": null,
   "metadata": {
    "collapsed": true
   },
   "outputs": [],
   "source": [
    "def show_segmentation_masks(predictions):\n",
    "    for (image,mask) in predictions:\n",
    "        plt.figure(figsize=(10,5))\n",
    "        plt.subplot(1, 2, 1)\n",
    "        plt.axis(\"off\")\n",
    "        plt.imshow(mask[0,:,:,1], cmap=plt.cm.gray)\n",
    "        plt.subplot(1, 2, 2)\n",
    "        plt.axis(\"off\")\n",
    "        plt.imshow(image, cmap=plt.cm.gray)\n",
    "\n",
    "print(\"Endocardium Predictions ({} images)...\".format(num_imgs))\n",
    "show_segmentation_masks(o_predictions)\n",
    "print(\"Epicardium Predictions ({} images)...\".format(num_imgs))\n",
    "show_segmentation_masks(i_predictions)"
   ]
  },
  {
   "cell_type": "markdown",
   "metadata": {},
   "source": [
    "## Submission Files Creation"
   ]
  },
  {
   "cell_type": "code",
   "execution_count": null,
   "metadata": {
    "collapsed": true
   },
   "outputs": [],
   "source": []
  }
 ],
 "metadata": {
  "kernelspec": {
   "display_name": "Python 3",
   "language": "python",
   "name": "python3"
  },
  "language_info": {
   "codemirror_mode": {
    "name": "ipython",
    "version": 3
   },
   "file_extension": ".py",
   "mimetype": "text/x-python",
   "name": "python",
   "nbconvert_exporter": "python",
   "pygments_lexer": "ipython3",
   "version": "3.6.3"
  }
 },
 "nbformat": 4,
 "nbformat_minor": 2
}
