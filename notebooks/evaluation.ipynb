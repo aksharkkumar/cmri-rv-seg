{
 "cells": [
  {
   "cell_type": "code",
   "execution_count": 1,
   "metadata": {},
   "outputs": [
    {
     "name": "stderr",
     "output_type": "stream",
     "text": [
      "Using TensorFlow backend.\n"
     ]
    }
   ],
   "source": [
    "import sys\n",
    "sys.path.append(\"..\")\n",
    "import os, re, glob\n",
    "import numpy as np\n",
    "import matplotlib.pyplot as plt\n",
    "%matplotlib inline\n",
    "\n",
    "from src import data,unet,unet_dilation"
   ]
  },
  {
   "cell_type": "code",
   "execution_count": 2,
   "metadata": {},
   "outputs": [
    {
     "name": "stdout",
     "output_type": "stream",
     "text": [
      "There are 243 total training images.\n",
      "There are 243 total inner masks.\n",
      "There are 243 total outer masks.\n"
     ]
    }
   ],
   "source": [
    "from keras import utils\n",
    "train_dir = \"/home/ubuntu/TrainingSet\"\n",
    "\n",
    "\n",
    "save_imgs_dir = 'images/train250NoDrpAdam3/dilation_endo'\n",
    "\n",
    "images = []\n",
    "inner_masks = []\n",
    "outer_masks = []\n",
    "\n",
    "patient_directories = sorted(glob.glob(os.path.join(train_dir, \"patient*\")))\n",
    "\n",
    "for patient_dir in patient_directories:\n",
    "    imgdata = data.ImageData(patient_dir)\n",
    "    images += imgdata.labeled_images\n",
    "    inner_masks += imgdata.endo_masks\n",
    "    outer_masks += imgdata.epi_masks\n",
    "\n",
    "images = np.asarray(images)[:,:,:,None].astype('float64')\n",
    "i_masks = np.asarray(inner_masks)\n",
    "o_masks = np.asarray(outer_masks)\n",
    "\n",
    "dims = i_masks.shape\n",
    "classes = len(set(i_masks[0].flatten()))\n",
    "new_shape = dims + (classes,)\n",
    "i_masks = utils.to_categorical(i_masks).reshape(new_shape)\n",
    "o_masks = utils.to_categorical(o_masks).reshape(new_shape)\n",
    "\n",
    "#i_masks_cropped=[]\n",
    "#crop_x = 8\n",
    "\n",
    "#for mask in i_masks:\n",
    "#    i_masks_cropped.append(mask[0+crop_x//2:216-crop_x//2,:,:])\n",
    "\n",
    "#print(i_masks[0].shape)\n",
    "#print(i_masks_cropped[0].shape)\n",
    "\n",
    "#i_masks_final = np.asarray(i_masks_cropped)\n",
    "\n",
    "\n",
    "\n",
    "def normalize(x, epsilon=1e-7, axis=(1,2)):\n",
    "    x -= np.mean(x, axis=axis, keepdims=True)\n",
    "    x /= np.std(x, axis=axis, keepdims=True) + epsilon\n",
    "    \n",
    "normalize(images,axis=(1,2))\n",
    "\n",
    "print(\"There are %d total training images.\" % len(images))\n",
    "print(\"There are %d total inner masks.\" % len(inner_masks))\n",
    "print(\"There are %d total outer masks.\" % len(outer_masks))"
   ]
  },
  {
   "cell_type": "code",
   "execution_count": 3,
   "metadata": {},
   "outputs": [],
   "source": [
    "height,width,_ = images[0].shape\n",
    "dropout = 0.0\n",
    "unet_conv = unet.UNet()\n",
    "\n",
    "endo_model = unet_conv.get_unet(height=height, width=width, channels=1,features=32,steps=3,dropout=dropout,padding='same')\n",
    "epi_model = unet_conv.get_unet(height=height, width=width, channels=1,features=32,steps=3,dropout=dropout,padding='same')\n",
    "\n",
    "unet_dilate = unet_dilation.UNet()\n",
    "\n",
    "endo_model_dilation = unet_dilate.get_unet(height=height,width=width,channels=1,features=32,steps=3,dropout=dropout,padding='same')\n",
    "epi_model_dilation = unet_dilate.get_unet(height=height,width=width,channels=1,features=32,steps=3,dropout=dropout,padding='same')"
   ]
  },
  {
   "cell_type": "code",
   "execution_count": 4,
   "metadata": {},
   "outputs": [],
   "source": [
    "from keras.optimizers import Adam, SGD\n",
    "from keras import backend as K\n",
    "\n",
    "def dice_coef(y_true, y_pred):\n",
    "    flat_y_true = K.flatten(y_true)\n",
    "    flat_y_pred = K.flatten(y_pred)\n",
    "    intersection = K.sum(flat_y_true * flat_y_pred)\n",
    "    return (2. * intersection + 1.) / (K.sum(flat_y_true) + K.sum(flat_y_pred) + 1.)\n",
    "\n",
    "def dice_coef_np(y_true, y_pred):\n",
    "    intersection = np.sum(y_true * y_pred)\n",
    "    return (2. * intersection + 1.) / (np.sum(y_true) + np.sum(y_pred) + 1.)"
   ]
  },
  {
   "cell_type": "code",
   "execution_count": 5,
   "metadata": {},
   "outputs": [
    {
     "name": "stdout",
     "output_type": "stream",
     "text": [
      "1000\n",
      "1000\n",
      "1000\n",
      "1000\n"
     ]
    }
   ],
   "source": [
    "#generate test set from validation\n",
    "import random\n",
    "from keras.preprocessing.image import ImageDataGenerator\n",
    "\n",
    "random.seed(78)\n",
    "\n",
    "val_split = 0.2\n",
    "\n",
    "split_index = int((1 - val_split) * len(images))\n",
    "\n",
    "validation_images = images[split_index:]\n",
    "validation_i_masks = i_masks[split_index:]\n",
    "validation_o_masks = o_masks[split_index:]\n",
    "\n",
    "val_batch_size = 1000\n",
    "augmented_i_images = []\n",
    "augmented_i_masks = []\n",
    "\n",
    "augmented_o_images = []\n",
    "augmented_o_masks = []\n",
    "data_gen_args = dict(rotation_range=180,\n",
    "                     width_shift_range=0.1,\n",
    "                     height_shift_range=0.1,\n",
    "                     shear_range=0.1,\n",
    "                     zoom_range=0.05,\n",
    "                     fill_mode='nearest')\n",
    "\n",
    "image_generator = ImageDataGenerator(**data_gen_args)\n",
    "for val in range(val_batch_size):\n",
    "    n = random.randint(0,len(validation_images)-1)\n",
    "    i_image = validation_images[n]\n",
    "    i_mask = validation_i_masks[n]\n",
    "    o_image = validation_images[n]\n",
    "    o_mask = validation_o_masks[n]\n",
    "    \n",
    "    _, _, channels = i_image.shape\n",
    "    \n",
    "    i_stacked = np.concatenate((i_image, i_mask), axis=2)\n",
    "    o_stacked = np.concatenate((o_image, o_mask), axis=2)\n",
    "    \n",
    "    i_augmented = image_generator.random_transform(i_stacked)\n",
    "    o_augmented = image_generator.random_transform(o_stacked)\n",
    "    \n",
    "    augmented_i_images.append(i_augmented[:,:,:channels])\n",
    "    augmented_i_masks.append(np.round(i_augmented[:,:,channels:]))\n",
    "    \n",
    "    augmented_o_images.append(o_augmented[:,:,:channels])\n",
    "    augmented_o_masks.append(np.round(o_augmented[:,:,channels:]))\n",
    "    \n",
    "\n",
    "\n",
    "print(len(augmented_i_images))\n",
    "print(len(augmented_i_masks))\n",
    "print(len(augmented_o_images))\n",
    "print(len(augmented_o_masks))\n",
    "\n"
   ]
  },
  {
   "cell_type": "code",
   "execution_count": 6,
   "metadata": {},
   "outputs": [
    {
     "name": "stdout",
     "output_type": "stream",
     "text": [
      "Statistics for Regular UNet - Endocardium\n",
      "Dice Average: 0.76 Dice Stdev: 0.28\n",
      "Statistics for Regular UNet - Epicardium\n",
      "Dice Average: 0.77 Dice Stdev: 0.28\n",
      "Statistics for UNet with dilation rate - Endocardium\n",
      "Dice Average: 0.76 Dice Stdev: 0.28\n",
      "Statistics for UNet with dilation rate - Epicardium\n",
      "Dice Average: 0.80 Dice Stdev: 0.26\n"
     ]
    }
   ],
   "source": [
    "import tensorflow as tf\n",
    "\n",
    "weight_file_endo_dilation = 'notebooks/saved_models/endo_models/weights-250Epochs-NoDrop-Adam3-Dilation.hdf5'\n",
    "weight_file_endo_base = 'notebooks/saved_models/endo_models/weights-500Epochs-NoDrop-Adam3.hdf5'\n",
    "weight_file_epi_base='notebooks/saved_models/epi_models/weights-500Epochs-NoDrop-Adam3.hdf5'\n",
    "weight_file_epi_dilation = 'notebooks/saved_models/epi_models/weights-250Epochs-NoDrop-Adam3-Dilation.hdf5'\n",
    "\n",
    "endo_model.load_weights(weight_file_endo_base)\n",
    "endo_model_dilation.load_weights(weight_file_endo_dilation)\n",
    "epi_model.load_weights(weight_file_epi_base)\n",
    "epi_model_dilation.load_weights(weight_file_epi_dilation)\n",
    "\n",
    "def calculate_dice(images, masks_true,unet_model):\n",
    "    dices = []\n",
    "    masks_pred = np.concatenate([unet_model.predict(image[None,:,:,:]) for image in images])\n",
    "    for mask_true, mask_pred in zip(masks_true, masks_pred):\n",
    "        y_true = mask_true[:,:,1].astype('uint8')\n",
    "        y_pred = np.round(mask_pred[:,:,1]).astype('uint8')\n",
    "        dices.append(dice_coef_np(y_true.flatten(), y_pred.flatten()))\n",
    "    print(\"Dice Average: {:.2f} Dice Stdev: {:.2f}\".format(np.mean(dices), np.std(dices)))\n",
    "\n",
    "print(\"Statistics for Regular UNet - Endocardium\")\n",
    "calculate_dice(augmented_i_images,augmented_i_masks,endo_model)\n",
    "print(\"Statistics for Regular UNet - Epicardium\")\n",
    "calculate_dice(augmented_o_images,augmented_o_masks,epi_model)\n",
    "print(\"Statistics for UNet with dilation rate - Endocardium\")\n",
    "calculate_dice(augmented_i_images,augmented_i_masks,endo_model_dilation)\n",
    "print(\"Statistics for UNet with dilation rate - Epicardium\")\n",
    "calculate_dice(augmented_o_images, augmented_o_masks, epi_model_dilation)"
   ]
  },
  {
   "cell_type": "code",
   "execution_count": 7,
   "metadata": {},
   "outputs": [
    {
     "name": "stdout",
     "output_type": "stream",
     "text": [
      "Training dice for Regular UNet\n",
      "Dice Average: 0.93 Dice Stdev: 0.06\n",
      "Validation dice for Regular UNet\n",
      "Dice Average: 0.75 Dice Stdev: 0.30\n",
      "Training dice for UNet with Dropout\n",
      "Dice Average: 0.10 Dice Stdev: 0.06\n",
      "Validation dice for UNet with Dropout\n",
      "Dice Average: 0.07 Dice Stdev: 0.05\n",
      "Training dice for Regular UNet\n",
      "Dice Average: 0.90 Dice Stdev: 0.14\n",
      "Validation dice for Regular UNet\n",
      "Dice Average: 0.78 Dice Stdev: 0.24\n"
     ]
    }
   ],
   "source": [
    "validation_split = 0.1\n",
    "\n",
    "split_index = int((1 - validation_split) * len(images))\n",
    "\n",
    "train_images = images[:split_index]\n",
    "train_masks = i_masks[:split_index]\n",
    "\n",
    "val_images = images[split_index:]\n",
    "val_masks = i_masks[split_index:]\n",
    "\n",
    "print(\"Training dice for Regular UNet\")\n",
    "calculate_dice(train_images,train_masks,model)\n",
    "print(\"Validation dice for Regular UNet\")\n",
    "calculate_dice(val_images,val_masks,model)\n",
    "\n",
    "print(\"Training dice for UNet with Dropout\")\n",
    "calculate_dice(train_images,train_masks,model_drop)\n",
    "print(\"Validation dice for UNet with Dropout\")\n",
    "calculate_dice(val_images,val_masks,model_drop)\n",
    "\n",
    "print(\"Training dice for Regular UNet\")\n",
    "calculate_dice(train_images,train_masks,model_dilation)\n",
    "print(\"Validation dice for Regular UNet\")\n",
    "calculate_dice(val_images,val_masks,model_dilation)"
   ]
  },
  {
   "cell_type": "code",
   "execution_count": null,
   "metadata": {},
   "outputs": [],
   "source": []
  }
 ],
 "metadata": {
  "kernelspec": {
   "display_name": "Python 3",
   "language": "python",
   "name": "python3"
  },
  "language_info": {
   "codemirror_mode": {
    "name": "ipython",
    "version": 3
   },
   "file_extension": ".py",
   "mimetype": "text/x-python",
   "name": "python",
   "nbconvert_exporter": "python",
   "pygments_lexer": "ipython3",
   "version": "3.5.2"
  }
 },
 "nbformat": 4,
 "nbformat_minor": 2
}
